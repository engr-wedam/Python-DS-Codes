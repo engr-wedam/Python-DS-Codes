{
 "cells": [
  {
   "cell_type": "markdown",
   "id": "28cc29b8-fde5-496e-987a-4b153eda32ff",
   "metadata": {},
   "source": [
    "# Beautiful Soup and Requests"
   ]
  },
  {
   "cell_type": "code",
   "execution_count": null,
   "id": "eb57d370-db52-4c65-84cd-e64a8c4ad7f8",
   "metadata": {},
   "outputs": [],
   "source": [
    "from requests.adapters import HTTPAdapter, Retry\n",
    "from requests import Session\n",
    "\n",
    "session = Session()\n",
    "retry = Retry(connect=3, backoff_factor=0.5)\n",
    "adapter = HTTPAdapter(max_retries=retry)\n",
    "session.mount(\"http://\", adapter)\n",
    "session.mount(\"https://\", adapter)\n",
    "\n",
    "response = session.get(\"https://www.scrapethissite.com/pages/forms/\")\n"
   ]
  },
  {
   "cell_type": "code",
   "execution_count": null,
   "id": "c76abc3b-1e4c-4b12-b13c-4ddf6021cd01",
   "metadata": {
    "editable": true,
    "slideshow": {
     "slide_type": ""
    },
    "tags": []
   },
   "outputs": [],
   "source": [
    "from bs4 import BeautifulSoup\n",
    "import requests"
   ]
  },
  {
   "cell_type": "code",
   "execution_count": null,
   "id": "677c407d-32d4-4e92-9078-b7cb149477ab",
   "metadata": {},
   "outputs": [],
   "source": [
    "url = 'https://www.scrapethissite.com/pages/forms/'"
   ]
  },
  {
   "cell_type": "code",
   "execution_count": null,
   "id": "55d882e3-97c3-485d-864e-1b10b534c8e9",
   "metadata": {},
   "outputs": [],
   "source": [
    "page = requests.get(url)"
   ]
  },
  {
   "cell_type": "code",
   "execution_count": null,
   "id": "18de3f43-c7cc-4de1-8d36-95a9ce299765",
   "metadata": {
    "editable": true,
    "slideshow": {
     "slide_type": ""
    },
    "tags": []
   },
   "outputs": [],
   "source": [
    "soup = BeautifulSoup(page.text, 'html')"
   ]
  },
  {
   "cell_type": "code",
   "execution_count": null,
   "id": "96f7c7dc-8b12-4ec3-bcbf-9339f0488e20",
   "metadata": {
    "scrolled": true
   },
   "outputs": [],
   "source": [
    "print(soup)"
   ]
  },
  {
   "cell_type": "code",
   "execution_count": null,
   "id": "8518e07a-fcf7-40e4-adf8-ef8929ef786a",
   "metadata": {
    "editable": true,
    "slideshow": {
     "slide_type": ""
    },
    "tags": []
   },
   "outputs": [],
   "source": [
    "print(soup.prettify())\n"
   ]
  },
  {
   "cell_type": "code",
   "execution_count": null,
   "id": "e8d70285-e1ac-40b8-a78f-b26a88a550a0",
   "metadata": {},
   "outputs": [],
   "source": []
  },
  {
   "cell_type": "code",
   "execution_count": null,
   "id": "5cb3485a-26ca-4a2a-afa1-a12e7bd97614",
   "metadata": {},
   "outputs": [],
   "source": []
  }
 ],
 "metadata": {
  "kernelspec": {
   "display_name": "anaconda-ai-2024.04-py310",
   "language": "python",
   "name": "conda-env-anaconda-ai-2024.04-py310-py"
  },
  "language_info": {
   "codemirror_mode": {
    "name": "ipython",
    "version": 3
   },
   "file_extension": ".py",
   "mimetype": "text/x-python",
   "name": "python",
   "nbconvert_exporter": "python",
   "pygments_lexer": "ipython3",
   "version": "3.10.13"
  }
 },
 "nbformat": 4,
 "nbformat_minor": 5
}
